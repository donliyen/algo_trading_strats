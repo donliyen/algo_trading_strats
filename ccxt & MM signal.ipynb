{
 "cells": [
  {
   "cell_type": "code",
   "execution_count": 41,
   "metadata": {},
   "outputs": [],
   "source": [
    "import ccxt \n",
    "import pandas as pd\n",
    "from datetime import datetime \n",
    "import pandas_ta as ta\n",
    "import vectorbt as vbt \n",
    "import numpy as np\n",
    "import matplotlib.pyplot as plt"
   ]
  },
  {
   "cell_type": "code",
   "execution_count": 25,
   "metadata": {},
   "outputs": [],
   "source": [
    "api_key = 'm70DEjjAvsQB62K4JotKIqSTHXWmgsT7lNi8BjsHryffZUTyeCYBmTxXPihmiddB'\n",
    "secret_key = 'dU2kMvtvoNPNOSCL31Oj30al0G4R76B2lMCFtrJUuzwIze5Nayp5rjUvrtMb9AED'"
   ]
  },
  {
   "cell_type": "code",
   "execution_count": 26,
   "metadata": {},
   "outputs": [],
   "source": [
    "binance = ccxt.binance ({\n",
    "\n",
    "            'apiKey' : api_key,\n",
    "            'secret' : secret_key\n",
    "})"
   ]
  },
  {
   "cell_type": "code",
   "execution_count": 27,
   "metadata": {},
   "outputs": [],
   "source": [
    "get_market = binance.load_markets()"
   ]
  },
  {
   "cell_type": "code",
   "execution_count": 28,
   "metadata": {},
   "outputs": [],
   "source": [
    "bars = binance.fetch_ohlcv('BTC/USDT', timeframe = '1h', limit = 1000)"
   ]
  },
  {
   "cell_type": "code",
   "execution_count": 29,
   "metadata": {},
   "outputs": [],
   "source": [
    "df = pd.DataFrame(bars, columns = ['time', 'open', 'low', 'high', 'close', 'volume'])\n",
    "df['time'] = pd.to_datetime(df['time'], unit = 'ms')"
   ]
  },
  {
   "cell_type": "code",
   "execution_count": 30,
   "metadata": {},
   "outputs": [],
   "source": [
    "df = df.set_index('time')"
   ]
  },
  {
   "cell_type": "code",
   "execution_count": 32,
   "metadata": {},
   "outputs": [],
   "source": [
    "def signal_gen(fast, slow, safemargin):\n",
    "    if abs(fast - slow) > safemargin :\n",
    "        if fast > slow:\n",
    "            return True\n",
    "        else:\n",
    "            return False\n",
    "    else: \n",
    "        return None"
   ]
  },
  {
   "cell_type": "code",
   "execution_count": null,
   "metadata": {},
   "outputs": [],
   "source": []
  }
 ],
 "metadata": {
  "kernelspec": {
   "display_name": "Python 3.9.12 ('base')",
   "language": "python",
   "name": "python3"
  },
  "language_info": {
   "codemirror_mode": {
    "name": "ipython",
    "version": 3
   },
   "file_extension": ".py",
   "mimetype": "text/x-python",
   "name": "python",
   "nbconvert_exporter": "python",
   "pygments_lexer": "ipython3",
   "version": "3.9.12"
  },
  "orig_nbformat": 4,
  "vscode": {
   "interpreter": {
    "hash": "e32982108fefd86bece31cb1b716c1a85a10c59f89f7da2beee88b58f28ea82e"
   }
  }
 },
 "nbformat": 4,
 "nbformat_minor": 2
}
